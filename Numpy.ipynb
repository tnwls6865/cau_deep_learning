{
  "nbformat": 4,
  "nbformat_minor": 0,
  "metadata": {
    "colab": {
      "provenance": [],
      "authorship_tag": "ABX9TyMX71QhcQ1YTHxt12eeDgLe",
      "include_colab_link": true
    },
    "kernelspec": {
      "name": "python3",
      "display_name": "Python 3"
    },
    "language_info": {
      "name": "python"
    }
  },
  "cells": [
    {
      "cell_type": "markdown",
      "metadata": {
        "id": "view-in-github",
        "colab_type": "text"
      },
      "source": [
        "<a href=\"https://colab.research.google.com/github/tnwls6865/cau_deep_learning/blob/main/Numpy.ipynb\" target=\"_parent\"><img src=\"https://colab.research.google.com/assets/colab-badge.svg\" alt=\"Open In Colab\"/></a>"
      ]
    },
    {
      "cell_type": "markdown",
      "source": [
        "NumPy는 Python에서 수치 연산을 수행하는 데 매우 유용한 라이브러리입니다. 아래에 기본적인 NumPy 사용법과 더불어 디테일한 예제를 포함한 실습 코드를 제공하겠습니다."
      ],
      "metadata": {
        "id": "_Z3eavk0DktM"
      }
    },
    {
      "cell_type": "markdown",
      "source": [
        "1. NumPy 배열 생성   \n",
        "NumPy 배열은 ndarray라는 객체로, Python 리스트와 유사하지만 고성능의 다차원 배열을 다룰 수 있습니다."
      ],
      "metadata": {
        "id": "qKggZ37QDn-v"
      }
    },
    {
      "cell_type": "markdown",
      "source": [
        "기본 배열 생성 예제"
      ],
      "metadata": {
        "id": "Ujw9EAUuDtZn"
      }
    },
    {
      "cell_type": "code",
      "execution_count": 2,
      "metadata": {
        "colab": {
          "base_uri": "https://localhost:8080/"
        },
        "id": "mXdwOheHDiS8",
        "outputId": "1f2321bc-a2ee-458b-ef1a-0e135a112aa8"
      },
      "outputs": [
        {
          "output_type": "stream",
          "name": "stdout",
          "text": [
            "1차원 배열: [1 2 3 4 5]\n",
            "2차원 배열:\n",
            " [[1 2 3]\n",
            " [4 5 6]]\n",
            "0으로 채워진 배열:\n",
            " [[0. 0. 0.]\n",
            " [0. 0. 0.]\n",
            " [0. 0. 0.]]\n",
            "1로 채워진 배열:\n",
            " [[1. 1. 1. 1.]\n",
            " [1. 1. 1. 1.]]\n",
            "연속된 값으로 이루어진 배열: [0 2 4 6 8]\n",
            "랜덤 배열:\n",
            " [[0.12834671 0.18547927 0.12636317]\n",
            " [0.76788109 0.99669457 0.01022744]\n",
            " [0.0419746  0.60663075 0.55626194]]\n"
          ]
        }
      ],
      "source": [
        "import numpy as np\n",
        "\n",
        "# 1차원 배열 생성\n",
        "array_1d = np.array([1, 2, 3, 4, 5])\n",
        "print(\"1차원 배열:\", array_1d)\n",
        "\n",
        "# 2차원 배열 생성\n",
        "array_2d = np.array([[1, 2, 3], [4, 5, 6]])\n",
        "print(\"2차원 배열:\\n\", array_2d)\n",
        "\n",
        "# 0으로 채워진 배열 생성\n",
        "zeros_array = np.zeros((3, 3))\n",
        "print(\"0으로 채워진 배열:\\n\", zeros_array)\n",
        "\n",
        "# 1로 채워진 배열 생성\n",
        "ones_array = np.ones((2, 4))\n",
        "print(\"1로 채워진 배열:\\n\", ones_array)\n",
        "\n",
        "# 연속된 값으로 배열 생성\n",
        "range_array = np.arange(0, 10, 2)  # 0부터 10까지 2씩 증가\n",
        "print(\"연속된 값으로 이루어진 배열:\", range_array)\n",
        "\n",
        "# 랜덤 배열 생성\n",
        "random_array = np.random.rand(3, 3)  # 3x3 크기의 랜덤 배열\n",
        "print(\"랜덤 배열:\\n\", random_array)\n"
      ]
    },
    {
      "cell_type": "markdown",
      "source": [
        "2. 배열의 기본 속성   \n",
        "NumPy 배열의 차원, 크기, 데이터 타입 등을 확인할 수 있습니다."
      ],
      "metadata": {
        "id": "RTfOjSrcDykW"
      }
    },
    {
      "cell_type": "code",
      "source": [
        "array = np.array([[1, 2, 3], [4, 5, 6]])\n",
        "\n",
        "print(\"배열의 차원:\", array.ndim)  # 배열의 차원 수\n",
        "print(\"배열의 형태 (shape):\", array.shape)  # 배열의 크기\n",
        "print(\"배열의 데이터 타입:\", array.dtype)  # 배열 요소의 데이터 타입\n",
        "print(\"배열의 전체 요소 개수:\", array.size)  # 배열의 총 요소 수\n"
      ],
      "metadata": {
        "colab": {
          "base_uri": "https://localhost:8080/"
        },
        "id": "_ChXG1RoDuYk",
        "outputId": "52665090-a619-49ad-932b-8169e9f95c12"
      },
      "execution_count": 3,
      "outputs": [
        {
          "output_type": "stream",
          "name": "stdout",
          "text": [
            "배열의 차원: 2\n",
            "배열의 형태 (shape): (2, 3)\n",
            "배열의 데이터 타입: int64\n",
            "배열의 전체 요소 개수: 6\n"
          ]
        }
      ]
    },
    {
      "cell_type": "markdown",
      "source": [
        "3. 배열 인덱싱 및 슬라이싱   \n",
        "배열에서 특정 요소에 접근하거나 일부 요소를 추출할 수 있습니다."
      ],
      "metadata": {
        "id": "UpdRmoCvD35p"
      }
    },
    {
      "cell_type": "code",
      "source": [
        "# 1차원 배열 인덱싱\n",
        "array = np.array([10, 20, 30, 40, 50])\n",
        "\n",
        "print(\"첫 번째 요소:\", array[0])\n",
        "print(\"마지막 요소:\", array[-1])\n",
        "\n",
        "# 2차원 배열 인덱싱\n",
        "array_2d = np.array([[1, 2, 3], [4, 5, 6], [7, 8, 9]])\n",
        "print(\"첫 번째 행:\", array_2d[0])\n",
        "print(\"첫 번째 행, 두 번째 열의 요소:\", array_2d[0, 1])\n",
        "\n",
        "# 슬라이싱\n",
        "print(\"2차원 배열 슬라이싱 (1~2행, 1~2열):\\n\", array_2d[1:3, 0:2])\n",
        "\n",
        "# 특정 조건에 맞는 요소 선택 (Boolean 인덱싱)\n",
        "bool_array = array_2d > 5\n",
        "print(\"5보다 큰 요소만 선택:\\n\", array_2d[bool_array])\n"
      ],
      "metadata": {
        "colab": {
          "base_uri": "https://localhost:8080/"
        },
        "id": "pFxbl-MRD3OK",
        "outputId": "7d2e7f77-ae89-4d35-93db-5845f90b2aa2"
      },
      "execution_count": 4,
      "outputs": [
        {
          "output_type": "stream",
          "name": "stdout",
          "text": [
            "첫 번째 요소: 10\n",
            "마지막 요소: 50\n",
            "첫 번째 행: [1 2 3]\n",
            "첫 번째 행, 두 번째 열의 요소: 2\n",
            "2차원 배열 슬라이싱 (1~2행, 1~2열):\n",
            " [[4 5]\n",
            " [7 8]]\n",
            "5보다 큰 요소만 선택:\n",
            " [6 7 8 9]\n"
          ]
        }
      ]
    },
    {
      "cell_type": "markdown",
      "source": [
        "4. 배열 연산   \n",
        "NumPy는 벡터화된 연산을 지원하며, 배열 간의 산술 연산을 빠르게 수행할 수 있습니다."
      ],
      "metadata": {
        "id": "puGQj-FuEAzX"
      }
    },
    {
      "cell_type": "code",
      "source": [
        "array1 = np.array([1, 2, 3])\n",
        "array2 = np.array([4, 5, 6])\n",
        "\n",
        "# 배열 간 덧셈, 뺄셈, 곱셈, 나눗셈\n",
        "print(\"배열 간 덧셈:\", array1 + array2)\n",
        "print(\"배열 간 뺄셈:\", array1 - array2)\n",
        "print(\"배열 간 곱셈:\", array1 * array2)\n",
        "print(\"배열 간 나눗셈:\", array1 / array2)\n",
        "\n",
        "# 스칼라 연산\n",
        "print(\"배열에 2를 곱함:\", array1 * 2)\n",
        "\n",
        "# 배열 간 행렬 곱셈 (dot product)\n",
        "matrix1 = np.array([[1, 2], [3, 4]])\n",
        "matrix2 = np.array([[5, 6], [7, 8]])\n",
        "dot_product = np.dot(matrix1, matrix2)\n",
        "print(\"행렬 곱셈:\\n\", dot_product)\n"
      ],
      "metadata": {
        "colab": {
          "base_uri": "https://localhost:8080/"
        },
        "id": "5FPLFE7WD_uQ",
        "outputId": "65f38e5d-05d5-48ed-cd08-35e6204371b8"
      },
      "execution_count": 5,
      "outputs": [
        {
          "output_type": "stream",
          "name": "stdout",
          "text": [
            "배열 간 덧셈: [5 7 9]\n",
            "배열 간 뺄셈: [-3 -3 -3]\n",
            "배열 간 곱셈: [ 4 10 18]\n",
            "배열 간 나눗셈: [0.25 0.4  0.5 ]\n",
            "배열에 2를 곱함: [2 4 6]\n",
            "행렬 곱셈:\n",
            " [[19 22]\n",
            " [43 50]]\n"
          ]
        }
      ]
    },
    {
      "cell_type": "markdown",
      "source": [
        "5. 배열의 형태 변경 (Reshape)   \n",
        "배열의 형태를 바꾸거나, 배열을 일차원으로 변환할 수 있습니다."
      ],
      "metadata": {
        "id": "r8ZqGV7bEFUI"
      }
    },
    {
      "cell_type": "code",
      "source": [
        "# 1차원 배열을 2차원 배열로 변환\n",
        "array = np.arange(6)\n",
        "reshaped_array = array.reshape(2, 3)\n",
        "print(\"변환된 2차원 배열:\\n\", reshaped_array)\n",
        "\n",
        "# 2차원 배열을 1차원으로 펼치기\n",
        "flattened_array = reshaped_array.ravel()\n",
        "print(\"펼쳐진 1차원 배열:\", flattened_array)\n",
        "\n",
        "# 배열 차원 추가\n",
        "array_2d = np.array([[1, 2], [3, 4]])\n",
        "expanded_array = np.expand_dims(array_2d, axis=0)  # 첫 번째 축에 차원 추가\n",
        "print(\"차원이 추가된 배열:\\n\", expanded_array)\n"
      ],
      "metadata": {
        "colab": {
          "base_uri": "https://localhost:8080/"
        },
        "id": "WejtFWNMEEbQ",
        "outputId": "654b6808-f519-433b-88e4-d220dd3e10fa"
      },
      "execution_count": 6,
      "outputs": [
        {
          "output_type": "stream",
          "name": "stdout",
          "text": [
            "변환된 2차원 배열:\n",
            " [[0 1 2]\n",
            " [3 4 5]]\n",
            "펼쳐진 1차원 배열: [0 1 2 3 4 5]\n",
            "차원이 추가된 배열:\n",
            " [[[1 2]\n",
            "  [3 4]]]\n"
          ]
        }
      ]
    },
    {
      "cell_type": "markdown",
      "source": [
        "6. 배열의 통계 연산   \n",
        "배열에서 최소값, 최대값, 평균, 합 등을 구할 수 있습니다."
      ],
      "metadata": {
        "id": "VI1BEz1-EIPS"
      }
    },
    {
      "cell_type": "code",
      "source": [
        "array = np.array([[1, 2, 3], [4, 5, 6]])\n",
        "\n",
        "# 배열의 합, 최소값, 최대값, 평균\n",
        "print(\"배열의 합:\", np.sum(array))\n",
        "print(\"배열의 최소값:\", np.min(array))\n",
        "print(\"배열의 최대값:\", np.max(array))\n",
        "print(\"배열의 평균:\", np.mean(array))\n",
        "\n",
        "# 각 축(axis)별로 연산\n",
        "print(\"각 행의 합:\", np.sum(array, axis=1))  # 행(row)별 합\n",
        "print(\"각 열의 합:\", np.sum(array, axis=0))  # 열(column)별 합\n"
      ],
      "metadata": {
        "colab": {
          "base_uri": "https://localhost:8080/"
        },
        "id": "MfEZ6s5_EHhL",
        "outputId": "d81418b6-81df-4272-d253-f04aba70819e"
      },
      "execution_count": 7,
      "outputs": [
        {
          "output_type": "stream",
          "name": "stdout",
          "text": [
            "배열의 합: 21\n",
            "배열의 최소값: 1\n",
            "배열의 최대값: 6\n",
            "배열의 평균: 3.5\n",
            "각 행의 합: [ 6 15]\n",
            "각 열의 합: [5 7 9]\n"
          ]
        }
      ]
    },
    {
      "cell_type": "markdown",
      "source": [
        "7. 배열 결합과 분할   \n",
        "NumPy에서는 배열을 서로 결합하거나, 특정 축을 따라 분할할 수 있습니다."
      ],
      "metadata": {
        "id": "LRl8hSbtEL4R"
      }
    },
    {
      "cell_type": "code",
      "source": [
        "array1 = np.array([[1, 2], [3, 4]])\n",
        "array2 = np.array([[5, 6], [7, 8]])\n",
        "\n",
        "# 배열 결합 (수평 결합과 수직 결합)\n",
        "h_stack = np.hstack((array1, array2))  # 수평 결합\n",
        "v_stack = np.vstack((array1, array2))  # 수직 결합\n",
        "\n",
        "print(\"수평 결합된 배열:\\n\", h_stack)\n",
        "print(\"수직 결합된 배열:\\n\", v_stack)\n",
        "\n",
        "# 배열 분할\n",
        "split_array = np.hsplit(h_stack, 2)  # 수평 분할\n",
        "print(\"분할된 배열:\\n\", split_array)\n"
      ],
      "metadata": {
        "colab": {
          "base_uri": "https://localhost:8080/"
        },
        "id": "2ReABgx0EK6p",
        "outputId": "e5454470-2015-447b-f193-85924f4ec920"
      },
      "execution_count": 8,
      "outputs": [
        {
          "output_type": "stream",
          "name": "stdout",
          "text": [
            "수평 결합된 배열:\n",
            " [[1 2 5 6]\n",
            " [3 4 7 8]]\n",
            "수직 결합된 배열:\n",
            " [[1 2]\n",
            " [3 4]\n",
            " [5 6]\n",
            " [7 8]]\n",
            "분할된 배열:\n",
            " [array([[1, 2],\n",
            "       [3, 4]]), array([[5, 6],\n",
            "       [7, 8]])]\n"
          ]
        }
      ]
    },
    {
      "cell_type": "markdown",
      "source": [
        "8. NumPy 고급 기능 - 브로드캐스팅   \n",
        "브로드캐스팅은 크기가 다른 배열 간의 연산을 자동으로 확장하여 처리하는 기능입니다."
      ],
      "metadata": {
        "id": "nZGbXjYNEP1R"
      }
    },
    {
      "cell_type": "code",
      "source": [
        "# 1차원 배열을 2차원 배열과 연산\n",
        "array_2d = np.array([[1, 2, 3], [4, 5, 6]])\n",
        "array_1d = np.array([10, 20, 30])\n",
        "\n",
        "# 1차원 배열을 2차원 배열과 더함 (브로드캐스팅 발생)\n",
        "result = array_2d + array_1d\n",
        "print(\"브로드캐스팅 결과:\\n\", result)\n"
      ],
      "metadata": {
        "colab": {
          "base_uri": "https://localhost:8080/"
        },
        "id": "cMYy6rY2ENvV",
        "outputId": "b5953c68-bb47-478b-95f9-b42909ee26e6"
      },
      "execution_count": 9,
      "outputs": [
        {
          "output_type": "stream",
          "name": "stdout",
          "text": [
            "브로드캐스팅 결과:\n",
            " [[11 22 33]\n",
            " [14 25 36]]\n"
          ]
        }
      ]
    },
    {
      "cell_type": "markdown",
      "source": [
        "9. 랜덤 함수와 시드 설정   \n",
        "NumPy는 난수 생성을 위한 다양한 함수를 제공합니다. np.random.seed()를 사용하면 동일한 랜덤 결과를 재현할 수 있습니다."
      ],
      "metadata": {
        "id": "6YLLuEOBESnh"
      }
    },
    {
      "cell_type": "code",
      "source": [
        "# 난수 생성\n",
        "random_array = np.random.rand(3, 3)  # 0~1 사이의 랜덤값\n",
        "print(\"랜덤 배열:\\n\", random_array)\n",
        "\n",
        "# 정수 난수 생성\n",
        "random_int_array = np.random.randint(0, 10, (3, 3))  # 0~9 사이의 정수 난수\n",
        "print(\"정수 난수 배열:\\n\", random_int_array)\n",
        "\n",
        "# 시드 설정\n",
        "np.random.seed(42)  # 시드 값을 고정하여 동일한 결과를 얻음\n",
        "random_array_seeded = np.random.rand(3, 3)\n",
        "print(\"시드가 고정된 랜덤 배열:\\n\", random_array_seeded)\n"
      ],
      "metadata": {
        "colab": {
          "base_uri": "https://localhost:8080/"
        },
        "id": "dousqLPWEReY",
        "outputId": "d2a87c26-90cf-476c-b5ce-289fe1a732fa"
      },
      "execution_count": 10,
      "outputs": [
        {
          "output_type": "stream",
          "name": "stdout",
          "text": [
            "랜덤 배열:\n",
            " [[0.01526111 0.80942732 0.27271488]\n",
            " [0.18803104 0.69682512 0.62761655]\n",
            " [0.81661614 0.95168853 0.78306461]]\n",
            "정수 난수 배열:\n",
            " [[6 6 0]\n",
            " [8 0 3]\n",
            " [5 6 9]]\n",
            "시드가 고정된 랜덤 배열:\n",
            " [[0.37454012 0.95071431 0.73199394]\n",
            " [0.59865848 0.15601864 0.15599452]\n",
            " [0.05808361 0.86617615 0.60111501]]\n"
          ]
        }
      ]
    },
    {
      "cell_type": "code",
      "source": [],
      "metadata": {
        "id": "dklH-akFET_U"
      },
      "execution_count": null,
      "outputs": []
    }
  ]
}