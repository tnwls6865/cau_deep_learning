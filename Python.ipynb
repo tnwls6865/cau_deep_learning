{
  "nbformat": 4,
  "nbformat_minor": 0,
  "metadata": {
    "colab": {
      "provenance": [],
      "authorship_tag": "ABX9TyNcbaCfvfVngG/squ5Wv3pM",
      "include_colab_link": true
    },
    "kernelspec": {
      "name": "python3",
      "display_name": "Python 3"
    },
    "language_info": {
      "name": "python"
    }
  },
  "cells": [
    {
      "cell_type": "markdown",
      "metadata": {
        "id": "view-in-github",
        "colab_type": "text"
      },
      "source": [
        "<a href=\"https://colab.research.google.com/github/tnwls6865/cau_deep_learning/blob/main/Python.ipynb\" target=\"_parent\"><img src=\"https://colab.research.google.com/assets/colab-badge.svg\" alt=\"Open In Colab\"/></a>"
      ]
    },
    {
      "cell_type": "markdown",
      "source": [
        "##  Python의 기본적인 실습 코드"
      ],
      "metadata": {
        "id": "ZCKlBqidBfwX"
      }
    },
    {
      "cell_type": "markdown",
      "source": [
        "### 기본 문법"
      ],
      "metadata": {
        "id": "Yv0T2IThg5tH"
      }
    },
    {
      "cell_type": "markdown",
      "source": [
        "1. 변수와 데이터 타입  \n",
        "변수는 데이터를 저장하는 공간입니다. Python은 변수를 선언할 때 데이터 타입을 명시적으로 지정하지 않고, 값에 따라 타입을 자동으로 결정합니다."
      ],
      "metadata": {
        "id": "aH-WlIi_BiPS"
      }
    },
    {
      "cell_type": "code",
      "execution_count": null,
      "metadata": {
        "colab": {
          "base_uri": "https://localhost:8080/"
        },
        "id": "lrFIVaDjBX6B",
        "outputId": "f2b30983-c767-4aca-ff1f-7de96c45d27c"
      },
      "outputs": [
        {
          "output_type": "stream",
          "name": "stdout",
          "text": [
            "이름: Alice\n",
            "나이: 25\n",
            "키: 5.4\n",
            "학생 여부: True\n",
            "<class 'str'>\n",
            "<class 'int'>\n",
            "<class 'float'>\n",
            "<class 'bool'>\n"
          ]
        }
      ],
      "source": [
        "# 변수 선언 및 데이터 타입 확인\n",
        "name = \"Alice\"\n",
        "age = 25\n",
        "height = 5.4\n",
        "is_student = True\n",
        "\n",
        "print(f\"이름: {name}\")\n",
        "print(f\"나이: {age}\")\n",
        "print(f\"키: {height}\")\n",
        "print(f\"학생 여부: {is_student}\")\n",
        "\n",
        "# 데이터 타입 출력\n",
        "print(type(name))\n",
        "print(type(age))\n",
        "print(type(height))\n",
        "print(type(is_student))\n"
      ]
    },
    {
      "cell_type": "code",
      "source": [
        "# 변수와 데이터 타입 예시\n",
        "name = \"Alice\"          # 문자열 (string)\n",
        "age = 25                # 정수 (integer)\n",
        "height = 5.4            # 실수 (float)\n",
        "is_student = True       # 불리언 (boolean)\n",
        "address = None          # None (비어 있는 값)\n",
        "\n",
        "print(f\"이름: {name}, 나이: {age}, 키: {height}, 학생 여부: {is_student}, 주소: {address}\")"
      ],
      "metadata": {
        "colab": {
          "base_uri": "https://localhost:8080/"
        },
        "id": "n4ZWcR3GCHP1",
        "outputId": "16dcbaa3-40cc-4e3e-b7fb-6e7d852bbdc0"
      },
      "execution_count": null,
      "outputs": [
        {
          "output_type": "stream",
          "name": "stdout",
          "text": [
            "이름: Alice, 나이: 25, 키: 5.4, 학생 여부: True, 주소: None\n"
          ]
        }
      ]
    },
    {
      "cell_type": "markdown",
      "source": [
        "데이터 타입 변환 예제"
      ],
      "metadata": {
        "id": "xP2Y0ymmCJcP"
      }
    },
    {
      "cell_type": "code",
      "source": [
        "# 데이터 타입 변환 예시\n",
        "age_str = str(age)  # 정수를 문자열로 변환\n",
        "height_int = int(height)  # 실수를 정수로 변환 (소수점 이하 제거)\n",
        "\n",
        "print(f\"나이 (문자열): {age_str}, 키 (정수): {height_int}\")\n"
      ],
      "metadata": {
        "colab": {
          "base_uri": "https://localhost:8080/"
        },
        "id": "z9PRiKn7CIsE",
        "outputId": "b6dfccb7-3c17-49a5-8616-c15c0a5e098b"
      },
      "execution_count": null,
      "outputs": [
        {
          "output_type": "stream",
          "name": "stdout",
          "text": [
            "나이 (문자열): 25, 키 (정수): 5\n"
          ]
        }
      ]
    },
    {
      "cell_type": "markdown",
      "source": [
        "연산자(Operators)\n",
        "\n",
        "산술 연산자: +, -, *, /, //, %, **  \n",
        "비교 연산자: ==, !=, >, <, >=, <=  \n",
        "논리 연산자: and, or, not  "
      ],
      "metadata": {
        "id": "-HdwtkJig-UZ"
      }
    },
    {
      "cell_type": "markdown",
      "source": [
        "산술 연산자"
      ],
      "metadata": {
        "id": "p3KpEapDhWA-"
      }
    },
    {
      "cell_type": "code",
      "source": [
        "a = 10\n",
        "b = 3\n",
        "\n",
        "print(\"Addition (+):\", a + b)      # 덧셈\n",
        "print(\"Subtraction (-):\", a - b)   # 뺄셈\n",
        "print(\"Multiplication (*):\", a * b)  # 곱셈\n",
        "print(\"Division (/):\", a / b)      # 나눗셈\n",
        "print(\"Floor Division (//):\", a // b)  # 몫 (정수 나눗셈)\n",
        "print(\"Modulus (%):\", a % b)       # 나머지\n",
        "print(\"Exponentiation (**):\", a ** b)  # 제곱\n"
      ],
      "metadata": {
        "colab": {
          "base_uri": "https://localhost:8080/"
        },
        "id": "j3opP4-chQzj",
        "outputId": "505cfb46-1b6f-4e88-abb1-fa7e9caf872a"
      },
      "execution_count": 9,
      "outputs": [
        {
          "output_type": "stream",
          "name": "stdout",
          "text": [
            "Addition (+): 13\n",
            "Subtraction (-): 7\n",
            "Multiplication (*): 30\n",
            "Division (/): 3.3333333333333335\n",
            "Floor Division (//): 3\n",
            "Modulus (%): 1\n",
            "Exponentiation (**): 1000\n"
          ]
        }
      ]
    },
    {
      "cell_type": "markdown",
      "source": [
        "비교 연산자 (Comparison Operators)  \n",
        "비교 연산자는 두 값을 비교하여 참(True) 또는 거짓(False)을 반환합니다."
      ],
      "metadata": {
        "id": "aZdR8DcqhX_e"
      }
    },
    {
      "cell_type": "code",
      "source": [
        "x = 5\n",
        "y = 10\n",
        "\n",
        "print(\"Equal to (==):\", x == y)    # 같은지 비교\n",
        "print(\"Not equal to (!=):\", x != y)  # 같지 않은지 비교\n",
        "print(\"Greater than (>):\", x > y)  # 큰지 비교\n",
        "print(\"Less than (<):\", x < y)     # 작은지 비교\n",
        "print(\"Greater than or equal to (>=):\", x >= y)  # 크거나 같은지 비교\n",
        "print(\"Less than or equal to (<=):\", x <= y)  # 작거나 같은지 비교\n"
      ],
      "metadata": {
        "colab": {
          "base_uri": "https://localhost:8080/"
        },
        "id": "wf3IMq5jhcTh",
        "outputId": "105c6831-7c90-4872-9c5d-59320d42a078"
      },
      "execution_count": 10,
      "outputs": [
        {
          "output_type": "stream",
          "name": "stdout",
          "text": [
            "Equal to (==): False\n",
            "Not equal to (!=): True\n",
            "Greater than (>): False\n",
            "Less than (<): True\n",
            "Greater than or equal to (>=): False\n",
            "Less than or equal to (<=): True\n"
          ]
        }
      ]
    },
    {
      "cell_type": "markdown",
      "source": [
        "논리 연산자 (Logical Operators)  \n",
        "논리 연산자는 여러 조건을 결합하여 참(True) 또는 거짓(False)을 반환합니다."
      ],
      "metadata": {
        "id": "REif8UwIhfR3"
      }
    },
    {
      "cell_type": "code",
      "source": [
        "a = True\n",
        "b = False\n",
        "\n",
        "print(\"Logical AND (and):\", a and b)  # 두 조건이 모두 참이면 참\n",
        "print(\"Logical OR (or):\", a or b)    # 둘 중 하나라도 참이면 참\n",
        "print(\"Logical NOT (not):\", not a)   # 참이면 거짓, 거짓이면 참\n"
      ],
      "metadata": {
        "colab": {
          "base_uri": "https://localhost:8080/"
        },
        "id": "Edqmkrjmhdc8",
        "outputId": "721ca9d0-9789-4825-b2ac-1a0d29456c82"
      },
      "execution_count": 11,
      "outputs": [
        {
          "output_type": "stream",
          "name": "stdout",
          "text": [
            "Logical AND (and): False\n",
            "Logical OR (or): True\n",
            "Logical NOT (not): False\n"
          ]
        }
      ]
    },
    {
      "cell_type": "markdown",
      "source": [
        "2. 조건문  \n",
        "조건문은 프로그램이 특정 조건에 따라 다른 행동을 하도록 만듭니다. if, elif, else 키워드를 사용합니다."
      ],
      "metadata": {
        "id": "sIVtM98IBmIx"
      }
    },
    {
      "cell_type": "code",
      "source": [
        "# 조건문 사용 예시\n",
        "age = int(input(\"나이를 입력하세요: \"))\n",
        "\n",
        "if age >= 18:\n",
        "    print(\"성인입니다.\")\n",
        "else:\n",
        "    print(\"미성년자입니다.\")\n"
      ],
      "metadata": {
        "colab": {
          "base_uri": "https://localhost:8080/"
        },
        "id": "j6BNtRZUBk4S",
        "outputId": "547eb59a-c1bf-4388-8a7b-c256812f2123"
      },
      "execution_count": null,
      "outputs": [
        {
          "output_type": "stream",
          "name": "stdout",
          "text": [
            "나이를 입력하세요: 28\n",
            "성인입니다.\n"
          ]
        }
      ]
    },
    {
      "cell_type": "code",
      "source": [
        "# 점수에 따른 성적 출력\n",
        "score = int(input(\"점수를 입력하세요: \"))\n",
        "\n",
        "if score >= 90:\n",
        "    print(\"A 학점입니다.\")\n",
        "elif score >= 80:\n",
        "    print(\"B 학점입니다.\")\n",
        "elif score >= 70:\n",
        "    print(\"C 학점입니다.\")\n",
        "else:\n",
        "    print(\"F 학점입니다.\")\n"
      ],
      "metadata": {
        "colab": {
          "base_uri": "https://localhost:8080/"
        },
        "id": "BTqhi8prCNm9",
        "outputId": "aaa6c19c-74ad-44d5-98d8-9c3276e06ce0"
      },
      "execution_count": null,
      "outputs": [
        {
          "output_type": "stream",
          "name": "stdout",
          "text": [
            "점수를 입력하세요: 44\n",
            "F 학점입니다.\n"
          ]
        }
      ]
    },
    {
      "cell_type": "code",
      "source": [
        "# 나이에 따른 입장료 계산\n",
        "age = int(input(\"나이를 입력하세요: \"))\n",
        "\n",
        "if age < 12:\n",
        "    price = 5\n",
        "    if age < 5:\n",
        "        price = 0  # 5세 미만은 무료\n",
        "else:\n",
        "    price = 10\n",
        "\n",
        "print(f\"입장료는 {price}달러입니다.\")\n"
      ],
      "metadata": {
        "colab": {
          "base_uri": "https://localhost:8080/"
        },
        "id": "zbsMkAFPCQKF",
        "outputId": "ff59741d-3565-4714-9c1c-170c250fe5e6"
      },
      "execution_count": null,
      "outputs": [
        {
          "output_type": "stream",
          "name": "stdout",
          "text": [
            "나이를 입력하세요: 29\n",
            "입장료는 10달러입니다.\n"
          ]
        }
      ]
    },
    {
      "cell_type": "markdown",
      "source": [
        "3. 반복문  \n",
        "반복문은 특정 코드를 여러 번 반복 실행할 때 사용됩니다. for와 while이 대표적인 반복문입니다."
      ],
      "metadata": {
        "id": "KRo7lhmtBsYZ"
      }
    },
    {
      "cell_type": "code",
      "source": [
        "# for 반복문\n",
        "print(\"1부터 5까지 숫자 출력:\")\n",
        "for i in range(1, 6):\n",
        "    print(i)\n",
        "\n",
        "# while 반복문\n",
        "count = 5\n",
        "print(\"\\nwhile 반복문 예시:\")\n",
        "while count > 0:\n",
        "    print(count)\n",
        "    count -= 1\n"
      ],
      "metadata": {
        "colab": {
          "base_uri": "https://localhost:8080/"
        },
        "id": "65nReKJzBpwg",
        "outputId": "66516d43-e9e5-4f68-877c-6f9ba5c3c290"
      },
      "execution_count": null,
      "outputs": [
        {
          "output_type": "stream",
          "name": "stdout",
          "text": [
            "1부터 5까지 숫자 출력:\n",
            "1\n",
            "2\n",
            "3\n",
            "4\n",
            "5\n",
            "\n",
            "while 반복문 예시:\n",
            "5\n",
            "4\n",
            "3\n",
            "2\n",
            "1\n"
          ]
        }
      ]
    },
    {
      "cell_type": "code",
      "source": [
        "# 1부터 10까지 짝수 출력\n",
        "for i in range(1, 11):\n",
        "    if i % 2 == 0:\n",
        "        print(i)\n"
      ],
      "metadata": {
        "colab": {
          "base_uri": "https://localhost:8080/"
        },
        "id": "OBr4LkOjCTpe",
        "outputId": "6fdd948c-f1e8-4b18-b8e8-7862ade6f5bf"
      },
      "execution_count": null,
      "outputs": [
        {
          "output_type": "stream",
          "name": "stdout",
          "text": [
            "2\n",
            "4\n",
            "6\n",
            "8\n",
            "10\n"
          ]
        }
      ]
    },
    {
      "cell_type": "code",
      "source": [
        "# 사용자가 0을 입력할 때까지 반복\n",
        "number = int(input(\"숫자를 입력하세요 (0을 입력하면 종료): \"))\n",
        "\n",
        "while number != 0:\n",
        "    print(f\"입력한 숫자: {number}\")\n",
        "    number = int(input(\"다시 입력하세요 (0을 입력하면 종료): \"))\n"
      ],
      "metadata": {
        "colab": {
          "base_uri": "https://localhost:8080/"
        },
        "id": "5SIzHarjCYGI",
        "outputId": "f1ced4a0-41fe-4322-db4f-2437796dd645"
      },
      "execution_count": null,
      "outputs": [
        {
          "name": "stdout",
          "output_type": "stream",
          "text": [
            "숫자를 입력하세요 (0을 입력하면 종료): 2\n",
            "입력한 숫자: 2\n",
            "다시 입력하세요 (0을 입력하면 종료): 1\n",
            "입력한 숫자: 1\n",
            "다시 입력하세요 (0을 입력하면 종료): 0\n"
          ]
        }
      ]
    },
    {
      "cell_type": "code",
      "source": [
        "# 구구단 출력\n",
        "for i in range(2, 10):\n",
        "    for j in range(1, 10):\n",
        "        print(f\"{i} x {j} = {i * j}\")\n",
        "    print(\"-\" * 10)  # 구분선 출력\n"
      ],
      "metadata": {
        "colab": {
          "base_uri": "https://localhost:8080/"
        },
        "id": "QHsqTEkoCarm",
        "outputId": "85324531-d490-495c-f672-c0c6ae9a04ad"
      },
      "execution_count": null,
      "outputs": [
        {
          "output_type": "stream",
          "name": "stdout",
          "text": [
            "2 x 1 = 2\n",
            "2 x 2 = 4\n",
            "2 x 3 = 6\n",
            "2 x 4 = 8\n",
            "2 x 5 = 10\n",
            "2 x 6 = 12\n",
            "2 x 7 = 14\n",
            "2 x 8 = 16\n",
            "2 x 9 = 18\n",
            "----------\n",
            "3 x 1 = 3\n",
            "3 x 2 = 6\n",
            "3 x 3 = 9\n",
            "3 x 4 = 12\n",
            "3 x 5 = 15\n",
            "3 x 6 = 18\n",
            "3 x 7 = 21\n",
            "3 x 8 = 24\n",
            "3 x 9 = 27\n",
            "----------\n",
            "4 x 1 = 4\n",
            "4 x 2 = 8\n",
            "4 x 3 = 12\n",
            "4 x 4 = 16\n",
            "4 x 5 = 20\n",
            "4 x 6 = 24\n",
            "4 x 7 = 28\n",
            "4 x 8 = 32\n",
            "4 x 9 = 36\n",
            "----------\n",
            "5 x 1 = 5\n",
            "5 x 2 = 10\n",
            "5 x 3 = 15\n",
            "5 x 4 = 20\n",
            "5 x 5 = 25\n",
            "5 x 6 = 30\n",
            "5 x 7 = 35\n",
            "5 x 8 = 40\n",
            "5 x 9 = 45\n",
            "----------\n",
            "6 x 1 = 6\n",
            "6 x 2 = 12\n",
            "6 x 3 = 18\n",
            "6 x 4 = 24\n",
            "6 x 5 = 30\n",
            "6 x 6 = 36\n",
            "6 x 7 = 42\n",
            "6 x 8 = 48\n",
            "6 x 9 = 54\n",
            "----------\n",
            "7 x 1 = 7\n",
            "7 x 2 = 14\n",
            "7 x 3 = 21\n",
            "7 x 4 = 28\n",
            "7 x 5 = 35\n",
            "7 x 6 = 42\n",
            "7 x 7 = 49\n",
            "7 x 8 = 56\n",
            "7 x 9 = 63\n",
            "----------\n",
            "8 x 1 = 8\n",
            "8 x 2 = 16\n",
            "8 x 3 = 24\n",
            "8 x 4 = 32\n",
            "8 x 5 = 40\n",
            "8 x 6 = 48\n",
            "8 x 7 = 56\n",
            "8 x 8 = 64\n",
            "8 x 9 = 72\n",
            "----------\n",
            "9 x 1 = 9\n",
            "9 x 2 = 18\n",
            "9 x 3 = 27\n",
            "9 x 4 = 36\n",
            "9 x 5 = 45\n",
            "9 x 6 = 54\n",
            "9 x 7 = 63\n",
            "9 x 8 = 72\n",
            "9 x 9 = 81\n",
            "----------\n"
          ]
        }
      ]
    },
    {
      "cell_type": "code",
      "source": [
        "# 1부터 10까지의 숫자 중에서 홀수만 출력\n",
        "i = 0\n",
        "while i < 10:\n",
        "    i += 1\n",
        "    if i % 2 == 0:\n",
        "        continue  # 짝수는 건너뜀\n",
        "    print(i)"
      ],
      "metadata": {
        "colab": {
          "base_uri": "https://localhost:8080/"
        },
        "id": "TaFjqPsahngc",
        "outputId": "8532eca7-ce2d-4358-95a9-2679899cfadb"
      },
      "execution_count": 14,
      "outputs": [
        {
          "output_type": "stream",
          "name": "stdout",
          "text": [
            "1\n",
            "3\n",
            "5\n",
            "7\n",
            "9\n"
          ]
        }
      ]
    },
    {
      "cell_type": "code",
      "source": [
        "# `break`를 사용하여 루프 중간에 종료\n",
        "i = 1\n",
        "while i <= 10:\n",
        "    print(i)\n",
        "    if i == 5:\n",
        "        break  # i가 5일 때 루프를 종료\n",
        "    i += 1"
      ],
      "metadata": {
        "colab": {
          "base_uri": "https://localhost:8080/"
        },
        "id": "Na7U_0i_hqo-",
        "outputId": "942f7fd1-30a8-4ea0-e4ff-83312dce1c9f"
      },
      "execution_count": 13,
      "outputs": [
        {
          "output_type": "stream",
          "name": "stdout",
          "text": [
            "1\n",
            "2\n",
            "3\n",
            "4\n",
            "5\n"
          ]
        }
      ]
    },
    {
      "cell_type": "markdown",
      "source": [
        "4. 리스트와 리스트 처리  \n",
        "리스트는 여러 개의 값을 저장할 수 있는 자료형으로, 순서를 유지합니다. 리스트는 []로 정의됩니다."
      ],
      "metadata": {
        "id": "XAm3IxyZBuOK"
      }
    },
    {
      "cell_type": "code",
      "source": [
        "# 리스트 예제\n",
        "fruits = [\"apple\", \"banana\", \"cherry\", \"date\"]\n",
        "\n",
        "# 리스트 순회\n",
        "print(\"과일 목록:\")\n",
        "for fruit in fruits:\n",
        "    print(fruit)\n",
        "\n",
        "# 리스트 길이 확인\n",
        "print(f\"리스트에 {len(fruits)}개의 과일이 있습니다.\")\n",
        "\n",
        "# 리스트 요소 추가 및 제거\n",
        "fruits.append(\"elderberry\")  # 요소 추가\n",
        "fruits.remove(\"banana\")  # 요소 제거\n",
        "\n",
        "print(\"업데이트된 과일 목록:\", fruits)\n"
      ],
      "metadata": {
        "colab": {
          "base_uri": "https://localhost:8080/"
        },
        "id": "8n5ZZtdzBtEy",
        "outputId": "da0c1d29-6be1-4889-88c8-0831cefc8bb7"
      },
      "execution_count": null,
      "outputs": [
        {
          "output_type": "stream",
          "name": "stdout",
          "text": [
            "과일 목록:\n",
            "apple\n",
            "banana\n",
            "cherry\n",
            "date\n",
            "리스트에 4개의 과일이 있습니다.\n",
            "업데이트된 과일 목록: ['apple', 'cherry', 'date', 'elderberry']\n"
          ]
        }
      ]
    },
    {
      "cell_type": "code",
      "source": [
        "# 인덱스로 접근\n",
        "print(f\"첫 번째 과일: {fruits[0]}\")"
      ],
      "metadata": {
        "colab": {
          "base_uri": "https://localhost:8080/"
        },
        "id": "oY2tJDtxCgpZ",
        "outputId": "99a4410d-01f7-4a78-f707-87fa9ae9153e"
      },
      "execution_count": null,
      "outputs": [
        {
          "output_type": "stream",
          "name": "stdout",
          "text": [
            "첫 번째 과일: apple\n"
          ]
        }
      ]
    },
    {
      "cell_type": "code",
      "source": [
        "# 리스트 정렬 및 슬라이싱 예시\n",
        "numbers = [3, 6, 1, 8, 2, 5]\n",
        "sorted_numbers = sorted(numbers)  # 오름차순 정렬\n",
        "print(f\"정렬된 리스트: {sorted_numbers}\")\n",
        "\n",
        "# 슬라이싱\n",
        "print(f\"리스트의 처음 세 개 요소: {sorted_numbers[:3]}\")\n"
      ],
      "metadata": {
        "colab": {
          "base_uri": "https://localhost:8080/"
        },
        "id": "-tOB861mChu6",
        "outputId": "02911371-e345-4209-f24c-d3a66fcb1484"
      },
      "execution_count": null,
      "outputs": [
        {
          "output_type": "stream",
          "name": "stdout",
          "text": [
            "정렬된 리스트: [1, 2, 3, 5, 6, 8]\n",
            "리스트의 처음 세 개 요소: [1, 2, 3]\n"
          ]
        }
      ]
    },
    {
      "cell_type": "markdown",
      "source": [
        "append()\n",
        "리스트의 끝에 새로운 요소를 추가합니다."
      ],
      "metadata": {
        "id": "6YfsPbRYhxsy"
      }
    },
    {
      "cell_type": "code",
      "source": [
        "fruits = [\"apple\", \"banana\", \"cherry\"]\n",
        "fruits.append(\"orange\")\n",
        "print(fruits)\n"
      ],
      "metadata": {
        "colab": {
          "base_uri": "https://localhost:8080/"
        },
        "id": "RLXxw27bhzqz",
        "outputId": "9c0b3a7e-9d4f-44e3-bd7c-eae0ff799b92"
      },
      "execution_count": 15,
      "outputs": [
        {
          "output_type": "stream",
          "name": "stdout",
          "text": [
            "['apple', 'banana', 'cherry', 'orange']\n"
          ]
        }
      ]
    },
    {
      "cell_type": "markdown",
      "source": [
        "insert()\n",
        "지정한 위치에 요소를 삽입합니다."
      ],
      "metadata": {
        "id": "5S_KA1j2h0RH"
      }
    },
    {
      "cell_type": "code",
      "source": [
        "fruits = [\"apple\", \"banana\", \"cherry\"]\n",
        "fruits.insert(1, \"orange\")  # 인덱스 1에 'orange' 삽입\n",
        "print(fruits)\n"
      ],
      "metadata": {
        "colab": {
          "base_uri": "https://localhost:8080/"
        },
        "id": "7IDh2E15h10C",
        "outputId": "46d1bf67-3df2-441e-b78f-48e3ecff5382"
      },
      "execution_count": 16,
      "outputs": [
        {
          "output_type": "stream",
          "name": "stdout",
          "text": [
            "['apple', 'orange', 'banana', 'cherry']\n"
          ]
        }
      ]
    },
    {
      "cell_type": "markdown",
      "source": [
        "extend()\n",
        "다른 리스트나 반복 가능한 객체의 모든 요소를 리스트에 추가합니다."
      ],
      "metadata": {
        "id": "o1qrhCbwh6Kr"
      }
    },
    {
      "cell_type": "code",
      "source": [
        "fruits = [\"apple\", \"banana\"]\n",
        "more_fruits = [\"cherry\", \"orange\"]\n",
        "fruits.extend(more_fruits)\n",
        "print(fruits)"
      ],
      "metadata": {
        "colab": {
          "base_uri": "https://localhost:8080/"
        },
        "id": "p-mUlVaJh3n8",
        "outputId": "5bd0cb8a-706f-4da0-a29f-ea9c0fb74921"
      },
      "execution_count": 18,
      "outputs": [
        {
          "output_type": "stream",
          "name": "stdout",
          "text": [
            "['apple', 'banana', 'cherry', 'orange']\n"
          ]
        }
      ]
    },
    {
      "cell_type": "markdown",
      "source": [
        "remove()\n",
        "리스트에서 첫 번째로 일치하는 요소를 제거합니다.\n",
        "\n"
      ],
      "metadata": {
        "id": "BJ8vZmjAh9HO"
      }
    },
    {
      "cell_type": "code",
      "source": [
        "fruits = [\"apple\", \"banana\", \"cherry\", \"banana\"]\n",
        "fruits.remove(\"banana\")\n",
        "print(fruits)\n"
      ],
      "metadata": {
        "colab": {
          "base_uri": "https://localhost:8080/"
        },
        "id": "Fa8JrfRMiAe1",
        "outputId": "7058aa15-c17e-43b0-d369-fad6c2aeb3bb"
      },
      "execution_count": 19,
      "outputs": [
        {
          "output_type": "stream",
          "name": "stdout",
          "text": [
            "['apple', 'cherry', 'banana']\n"
          ]
        }
      ]
    },
    {
      "cell_type": "markdown",
      "source": [
        "pop()\n",
        "지정한 인덱스에 있는 요소를 제거하고 반환합니다. 인덱스를 지정하지 않으면 마지막 요소를 제거하고 반환합니다."
      ],
      "metadata": {
        "id": "ZUQ8jhxwiCwb"
      }
    },
    {
      "cell_type": "code",
      "source": [
        "fruits = [\"apple\", \"banana\", \"cherry\"]\n",
        "fruit = fruits.pop(1)  # 인덱스 1의 요소를 제거하고 반환\n",
        "print(fruits)  # ['apple', 'cherry']\n",
        "print(fruit)   # 'banana'\n"
      ],
      "metadata": {
        "colab": {
          "base_uri": "https://localhost:8080/"
        },
        "id": "hth6G2WtiFep",
        "outputId": "5c930b57-bfb3-4d64-efe3-2811a5540d73"
      },
      "execution_count": 21,
      "outputs": [
        {
          "output_type": "stream",
          "name": "stdout",
          "text": [
            "['apple', 'cherry']\n",
            "banana\n"
          ]
        }
      ]
    },
    {
      "cell_type": "markdown",
      "source": [
        "index()\n",
        "리스트에서 특정 요소의 인덱스를 반환합니다. 해당 요소가 없으면 오류가 발생합니다."
      ],
      "metadata": {
        "id": "VKuuwSrXiIoN"
      }
    },
    {
      "cell_type": "code",
      "source": [
        "fruits = [\"apple\", \"banana\", \"cherry\"]\n",
        "print(fruits.index(\"cherry\"))"
      ],
      "metadata": {
        "colab": {
          "base_uri": "https://localhost:8080/"
        },
        "id": "ZmYSFOBUiLhX",
        "outputId": "02b4ad01-39af-4254-aad1-671fab65bde5"
      },
      "execution_count": 22,
      "outputs": [
        {
          "output_type": "stream",
          "name": "stdout",
          "text": [
            "2\n"
          ]
        }
      ]
    },
    {
      "cell_type": "markdown",
      "source": [
        "count()\n",
        "리스트에서 특정 요소가 몇 번 나타나는지 반환합니다.\n",
        "\n"
      ],
      "metadata": {
        "id": "E3pEgP7wiTYg"
      }
    },
    {
      "cell_type": "code",
      "source": [
        "fruits = [\"apple\", \"banana\", \"cherry\", \"apple\"]\n",
        "print(fruits.count(\"apple\"))\n"
      ],
      "metadata": {
        "colab": {
          "base_uri": "https://localhost:8080/"
        },
        "id": "TKe8Z_WUiUkh",
        "outputId": "e084b511-7a96-4cbb-882e-6b2c3b8b2d8d"
      },
      "execution_count": 23,
      "outputs": [
        {
          "output_type": "stream",
          "name": "stdout",
          "text": [
            "2\n"
          ]
        }
      ]
    },
    {
      "cell_type": "markdown",
      "source": [
        "sort()\n",
        "리스트의 요소를 오름차순으로 정렬합니다. 역순으로 정렬하려면 reverse=True 옵션을 사용할 수 있습니다."
      ],
      "metadata": {
        "id": "xIOWPPCniW36"
      }
    },
    {
      "cell_type": "code",
      "source": [
        "numbers = [3, 1, 4, 1, 5, 9]\n",
        "numbers.sort()\n",
        "print(numbers)\n"
      ],
      "metadata": {
        "colab": {
          "base_uri": "https://localhost:8080/"
        },
        "id": "UkwK3sL_iYaF",
        "outputId": "59e0d790-b9ae-4d29-8732-14a9a044e05b"
      },
      "execution_count": 24,
      "outputs": [
        {
          "output_type": "stream",
          "name": "stdout",
          "text": [
            "[1, 1, 3, 4, 5, 9]\n"
          ]
        }
      ]
    },
    {
      "cell_type": "code",
      "source": [
        "numbers.sort(reverse=True)\n",
        "print(numbers)\n"
      ],
      "metadata": {
        "colab": {
          "base_uri": "https://localhost:8080/"
        },
        "id": "17D_ARu3iZpz",
        "outputId": "383e45eb-e342-42b6-ec01-18f197d9b530"
      },
      "execution_count": 25,
      "outputs": [
        {
          "output_type": "stream",
          "name": "stdout",
          "text": [
            "[9, 5, 4, 3, 1, 1]\n"
          ]
        }
      ]
    },
    {
      "cell_type": "markdown",
      "source": [
        "len()\n",
        "리스트의 길이(요소의 개수)를 반환합니다. (내장 함수)"
      ],
      "metadata": {
        "id": "L1cDGuexicIo"
      }
    },
    {
      "cell_type": "code",
      "source": [
        "fruits = [\"apple\", \"banana\", \"cherry\"]\n",
        "print(len(fruits))\n"
      ],
      "metadata": {
        "colab": {
          "base_uri": "https://localhost:8080/"
        },
        "id": "gV7U3V9Didx1",
        "outputId": "164c8faa-1d0e-4d6b-afa2-b1732fc78755"
      },
      "execution_count": 26,
      "outputs": [
        {
          "output_type": "stream",
          "name": "stdout",
          "text": [
            "3\n"
          ]
        }
      ]
    },
    {
      "cell_type": "markdown",
      "source": [
        "5. 튜플  \n",
        "튜플은 리스트와 비슷하지만, 변경할 수 없는 자료형입니다. 튜플은 ()로 정의됩니다. 리스트보다 빠르며, 데이터가 고정적일 때 사용합니다."
      ],
      "metadata": {
        "id": "C8xSgIeAC607"
      }
    },
    {
      "cell_type": "code",
      "source": [
        "# 튜플 생성 및 접근\n",
        "my_tuple = (1, 2, 3, \"apple\", \"banana\")\n",
        "\n",
        "# 요소 접근\n",
        "print(my_tuple[0])  # 첫 번째 요소\n",
        "print(my_tuple[-1])  # 마지막 요소\n",
        "\n",
        "# 튜플 슬라이싱\n",
        "print(my_tuple[1:3])  # 두 번째 요소부터 세 번째 요소까지\n",
        "\n",
        "# 튜플은 변경할 수 없기 때문에 요소 추가나 제거 불가\n",
        "# 그러나 리스트로 변환하여 가능함\n",
        "my_list = list(my_tuple)\n",
        "my_list.append(\"cherry\")\n",
        "my_tuple = tuple(my_list)\n",
        "print(my_tuple)\n"
      ],
      "metadata": {
        "colab": {
          "base_uri": "https://localhost:8080/"
        },
        "id": "3OgqGUDiDCuA",
        "outputId": "3b99f107-46d0-4291-d420-4c53f654116b"
      },
      "execution_count": null,
      "outputs": [
        {
          "output_type": "stream",
          "name": "stdout",
          "text": [
            "1\n",
            "banana\n",
            "(2, 3)\n",
            "(1, 2, 3, 'apple', 'banana', 'cherry')\n"
          ]
        }
      ]
    },
    {
      "cell_type": "markdown",
      "source": [
        "count()\n",
        "튜플 내에서 특정 요소가 몇 번 등장하는지 반환합니다."
      ],
      "metadata": {
        "id": "AzxgUlBPiiOM"
      }
    },
    {
      "cell_type": "code",
      "source": [
        "# count() 예시\n",
        "fruits = (\"apple\", \"banana\", \"cherry\", \"apple\", \"apple\")\n",
        "print(fruits.count(\"apple\"))\n"
      ],
      "metadata": {
        "colab": {
          "base_uri": "https://localhost:8080/"
        },
        "id": "gPeCbnp-iixY",
        "outputId": "03138e88-e8e0-4f67-81fa-0c0d76109444"
      },
      "execution_count": 27,
      "outputs": [
        {
          "output_type": "stream",
          "name": "stdout",
          "text": [
            "3\n"
          ]
        }
      ]
    },
    {
      "cell_type": "markdown",
      "source": [
        "index()\n",
        "튜플 내에서 특정 요소의 첫 번째 인덱스를 반환합니다. 해당 요소가 없으면 오류가 발생합니다."
      ],
      "metadata": {
        "id": "gfwfrthdikGx"
      }
    },
    {
      "cell_type": "code",
      "source": [
        "# index() 예시\n",
        "fruits = (\"apple\", \"banana\", \"cherry\")\n",
        "print(fruits.index(\"banana\"))\n"
      ],
      "metadata": {
        "colab": {
          "base_uri": "https://localhost:8080/"
        },
        "id": "Ihhzz47cireI",
        "outputId": "e148746f-06ff-4e32-e3ab-dd6e6c6d10e1"
      },
      "execution_count": 29,
      "outputs": [
        {
          "output_type": "stream",
          "name": "stdout",
          "text": [
            "1\n"
          ]
        }
      ]
    },
    {
      "cell_type": "markdown",
      "source": [
        "튜플의 len() (내장 함수)\n",
        "튜플의 길이(요소의 개수)를 반환합니다."
      ],
      "metadata": {
        "id": "7RmQOLYmio5R"
      }
    },
    {
      "cell_type": "code",
      "source": [
        "# len() 예시\n",
        "fruits = (\"apple\", \"banana\", \"cherry\")\n",
        "print(len(fruits))\n"
      ],
      "metadata": {
        "colab": {
          "base_uri": "https://localhost:8080/"
        },
        "id": "GHAlTtW-it8e",
        "outputId": "820643d8-adbb-41fa-b6ae-7ff5c66380c5"
      },
      "execution_count": 30,
      "outputs": [
        {
          "output_type": "stream",
          "name": "stdout",
          "text": [
            "3\n"
          ]
        }
      ]
    },
    {
      "cell_type": "markdown",
      "source": [
        "6. 함수  \n",
        "함수는 재사용 가능한 코드 블록을 정의하는 방법입니다. 매개변수를 통해 값을 함수로 전달할 수 있습니다."
      ],
      "metadata": {
        "id": "8-zkE8d9BxNq"
      }
    },
    {
      "cell_type": "code",
      "source": [
        "# 함수 정의\n",
        "def greet(name):\n",
        "    return f\"Hello, {name}!\"\n",
        "\n",
        "# 함수 호출\n",
        "name = input(\"이름을 입력하세요: \")\n",
        "message = greet(name)\n",
        "print(message)\n"
      ],
      "metadata": {
        "colab": {
          "base_uri": "https://localhost:8080/"
        },
        "id": "W_5BDtRZBvlS",
        "outputId": "c63f16f8-4742-47d0-f9d3-accff1107906"
      },
      "execution_count": null,
      "outputs": [
        {
          "output_type": "stream",
          "name": "stdout",
          "text": [
            "이름을 입력하세요: 장수진\n",
            "Hello, 장수진!\n"
          ]
        }
      ]
    },
    {
      "cell_type": "code",
      "source": [
        "# 간단한 덧셈 함수\n",
        "def add_numbers(a, b):\n",
        "    return a + b\n",
        "\n",
        "result = add_numbers(5, 3)\n",
        "print(f\"5 + 3 = {result}\")\n"
      ],
      "metadata": {
        "colab": {
          "base_uri": "https://localhost:8080/"
        },
        "id": "yL6A5R9MCkox",
        "outputId": "b763055b-09a3-4417-a738-feb1492bd0bc"
      },
      "execution_count": null,
      "outputs": [
        {
          "output_type": "stream",
          "name": "stdout",
          "text": [
            "5 + 3 = 8\n"
          ]
        }
      ]
    },
    {
      "cell_type": "code",
      "source": [
        "# 기본값을 가지는 매개변수\n",
        "def greet(name=\"Guest\"):\n",
        "    return f\"Hello, {name}!\"\n",
        "\n",
        "print(greet())  # 기본값 사용\n",
        "print(greet(\"Alice\"))  # 매개변수에 값 전달\n"
      ],
      "metadata": {
        "colab": {
          "base_uri": "https://localhost:8080/"
        },
        "id": "QwpL03NoClxT",
        "outputId": "4f4bb17a-5df2-4b75-a3d2-f365e0631609"
      },
      "execution_count": null,
      "outputs": [
        {
          "output_type": "stream",
          "name": "stdout",
          "text": [
            "Hello, Guest!\n",
            "Hello, Alice!\n"
          ]
        }
      ]
    },
    {
      "cell_type": "markdown",
      "source": [
        "7. 딕셔너리  \n",
        "딕셔너리는 키와 값으로 이루어진 데이터 구조입니다. 각 키는 고유하며, 중복될 수 없습니다. 딕셔너리는 {}로 정의됩니다."
      ],
      "metadata": {
        "id": "adER59P6B0MN"
      }
    },
    {
      "cell_type": "code",
      "source": [
        "# 딕셔너리 예제\n",
        "person = {\n",
        "    \"name\": \"John\",\n",
        "    \"age\": 30,\n",
        "    \"city\": \"New York\"\n",
        "}\n",
        "\n",
        "# 딕셔너리 값에 접근\n",
        "print(f\"이름: {person['name']}\")\n",
        "print(f\"나이: {person['age']}\")\n",
        "print(f\"도시: {person['city']}\")\n",
        "\n",
        "# 딕셔너리에 새로운 키-값 추가\n",
        "person[\"job\"] = \"Developer\"\n",
        "print(f\"직업: {person['job']}\")\n"
      ],
      "metadata": {
        "colab": {
          "base_uri": "https://localhost:8080/"
        },
        "id": "PlQ_TauTByBF",
        "outputId": "97ead689-69d8-4fcd-e918-8f0a045b6445"
      },
      "execution_count": null,
      "outputs": [
        {
          "output_type": "stream",
          "name": "stdout",
          "text": [
            "이름: John\n",
            "나이: 30\n",
            "도시: New York\n",
            "직업: Developer\n"
          ]
        }
      ]
    },
    {
      "cell_type": "code",
      "source": [
        "# 딕셔너리 생성\n",
        "person = {\n",
        "    \"name\": \"John\",\n",
        "    \"age\": 30,\n",
        "    \"city\": \"New York\"\n",
        "}\n",
        "\n",
        "# 값 추가 및 변경\n",
        "person[\"job\"] = \"Engineer\"  # 키-값 추가\n",
        "person[\"age\"] = 31  # 기존 값 변경\n",
        "\n",
        "# 딕셔너리 값에 접근\n",
        "print(f\"이름: {person['name']}\")\n",
        "print(f\"나이: {person['age']}\")\n"
      ],
      "metadata": {
        "colab": {
          "base_uri": "https://localhost:8080/"
        },
        "id": "uCmniiB-Cqa4",
        "outputId": "8d065a7c-6c15-4163-a04c-f3f569a86f2d"
      },
      "execution_count": null,
      "outputs": [
        {
          "output_type": "stream",
          "name": "stdout",
          "text": [
            "이름: John\n",
            "나이: 31\n"
          ]
        }
      ]
    },
    {
      "cell_type": "code",
      "source": [
        "# 딕셔너리 순회 예제\n",
        "for key, value in person.items():\n",
        "    print(f\"{key}: {value}\")\n"
      ],
      "metadata": {
        "colab": {
          "base_uri": "https://localhost:8080/"
        },
        "id": "FWYFKk1MCraY",
        "outputId": "fa61fecc-1f3b-42f9-88a1-93c37d737e37"
      },
      "execution_count": null,
      "outputs": [
        {
          "output_type": "stream",
          "name": "stdout",
          "text": [
            "name: John\n",
            "age: 31\n",
            "city: New York\n",
            "job: Engineer\n"
          ]
        }
      ]
    },
    {
      "cell_type": "markdown",
      "source": [
        "8. 파일 입출력  \n",
        "파일을 읽고 쓰는 방법입니다. open() 함수로 파일을 열고, with 구문을 사용하여 자동으로 파일을 닫을 수 있습니다."
      ],
      "metadata": {
        "id": "wM9ugUlnB2bM"
      }
    },
    {
      "cell_type": "code",
      "source": [
        "# 파일 쓰기\n",
        "with open(\"example.txt\", \"w\") as file:\n",
        "    file.write(\"Hello, Python!\\nThis is a simple file.\")\n",
        "\n",
        "# 파일 읽기\n",
        "with open(\"example.txt\", \"r\") as file:\n",
        "    content = file.read()\n",
        "    print(\"파일 내용:\")\n",
        "    print(content)\n"
      ],
      "metadata": {
        "colab": {
          "base_uri": "https://localhost:8080/"
        },
        "id": "XaTJxqFPB1SA",
        "outputId": "47fd18ce-7e92-47d9-91ac-da6eb2522fa0"
      },
      "execution_count": null,
      "outputs": [
        {
          "output_type": "stream",
          "name": "stdout",
          "text": [
            "파일 내용:\n",
            "Hello, Python!\n",
            "This is a simple file.\n"
          ]
        }
      ]
    },
    {
      "cell_type": "markdown",
      "source": [
        "9. 클래스와 객체 지향 프로그래밍   \n",
        "Python은 객체 지향 프로그래밍을 지원합니다. 클래스는 객체를 만들기 위한 청사진이며, 객체는 클래스의 인스턴스입니다."
      ],
      "metadata": {
        "id": "i_K4atYFB4qw"
      }
    },
    {
      "cell_type": "code",
      "source": [
        "# 클래스 정의\n",
        "class Dog:\n",
        "    def __init__(self, name, breed):\n",
        "        self.name = name\n",
        "        self.breed = breed\n",
        "\n",
        "    def bark(self):\n",
        "        return f\"{self.name} is barking!\"\n",
        "\n",
        "# 객체 생성\n",
        "my_dog = Dog(\"Buddy\", \"Golden Retriever\")\n",
        "\n",
        "# 메서드 호출\n",
        "print(my_dog.bark())\n"
      ],
      "metadata": {
        "colab": {
          "base_uri": "https://localhost:8080/"
        },
        "id": "yUrHJ2_ZB3Sy",
        "outputId": "0ce30e5e-a26c-4b16-db8a-82dff94dc251"
      },
      "execution_count": null,
      "outputs": [
        {
          "output_type": "stream",
          "name": "stdout",
          "text": [
            "Buddy is barking!\n"
          ]
        }
      ]
    },
    {
      "cell_type": "markdown",
      "source": [
        "기본적인 클래스 내 함수 처리  \n",
        "클래스의 함수는 보통 인스턴스의 속성(데이터)을 처리하거나 반환하는 역할을 합니다.\n",
        "\n"
      ],
      "metadata": {
        "id": "SQeTxAUZS8aU"
      }
    },
    {
      "cell_type": "code",
      "source": [
        "class Calculator:\n",
        "    # 생성자\n",
        "    def __init__(self, num1, num2):\n",
        "        self.num1 = num1\n",
        "        self.num2 = num2\n",
        "\n",
        "    # 두 숫자를 더하는 메서드\n",
        "    def add(self):\n",
        "        return self.num1 + self.num2\n",
        "\n",
        "    # 두 숫자를 곱하는 메서드\n",
        "    def multiply(self):\n",
        "        return self.num1 * self.num2\n",
        "\n",
        "    # 두 숫자 중 큰 숫자를 반환하는 메서드\n",
        "    def max_value(self):\n",
        "        return max(self.num1, self.num2)\n",
        "\n",
        "# 인스턴스 생성\n",
        "calc = Calculator(10, 20)\n",
        "\n",
        "# 메서드 호출\n",
        "print(f\"Addition: {calc.add()}\")\n",
        "print(f\"Multiplication: {calc.multiply()}\")\n",
        "print(f\"Max value: {calc.max_value()}\")\n"
      ],
      "metadata": {
        "id": "IbwW-6G6S_yC",
        "outputId": "90f628b1-c4f5-40f1-8d04-2d58c3a78f9f",
        "colab": {
          "base_uri": "https://localhost:8080/"
        }
      },
      "execution_count": null,
      "outputs": [
        {
          "output_type": "stream",
          "name": "stdout",
          "text": [
            "Addition: 30\n",
            "Multiplication: 200\n",
            "Max value: 20\n"
          ]
        }
      ]
    },
    {
      "cell_type": "markdown",
      "source": [
        "상태를 업데이트하는 함수 처리  \n",
        "클래스 내에서 인스턴스 속성을 변경하는 함수(메서드)를 정의할 수 있습니다."
      ],
      "metadata": {
        "id": "Xv6Ilv1mTDZd"
      }
    },
    {
      "cell_type": "code",
      "source": [
        "class BankAccount:\n",
        "    # 생성자\n",
        "    def __init__(self, owner, balance=0):\n",
        "        self.owner = owner\n",
        "        self.balance = balance\n",
        "\n",
        "    # 입금 메서드\n",
        "    def deposit(self, amount):\n",
        "        self.balance += amount\n",
        "        print(f\"Deposited {amount}. New balance: {self.balance}\")\n",
        "\n",
        "    # 출금 메서드\n",
        "    def withdraw(self, amount):\n",
        "        if amount > self.balance:\n",
        "            print(\"Insufficient funds!\")\n",
        "        else:\n",
        "            self.balance -= amount\n",
        "            print(f\"Withdrew {amount}. New balance: {self.balance}\")\n",
        "\n",
        "# 인스턴스 생성\n",
        "account = BankAccount(\"Alice\", 1000)\n",
        "\n",
        "# 메서드 호출\n",
        "account.deposit(500)\n",
        "account.withdraw(300)\n",
        "account.withdraw(1500)  # 잔액 부족 처리\n"
      ],
      "metadata": {
        "id": "qsOusGjwTGJP",
        "outputId": "dfdb7c3f-e433-445f-8a70-781eb173b740",
        "colab": {
          "base_uri": "https://localhost:8080/"
        }
      },
      "execution_count": null,
      "outputs": [
        {
          "output_type": "stream",
          "name": "stdout",
          "text": [
            "Deposited 500. New balance: 1500\n",
            "Withdrew 300. New balance: 1200\n",
            "Insufficient funds!\n"
          ]
        }
      ]
    },
    {
      "cell_type": "markdown",
      "source": [
        "클래스 간의 함수 호출 및 협력  \n",
        "클래스는 서로 협력할 수 있으며, 하나의 클래스가 다른 클래스의 메서드를 호출하는 방식으로 협력할 수 있습니다."
      ],
      "metadata": {
        "id": "U4bX5qOgTKhu"
      }
    },
    {
      "cell_type": "code",
      "source": [
        "class Engine:\n",
        "    # 엔진 상태를 설정\n",
        "    def __init__(self):\n",
        "        self.status = \"off\"\n",
        "\n",
        "    def start(self):\n",
        "        self.status = \"on\"\n",
        "        print(\"Engine started.\")\n",
        "\n",
        "    def stop(self):\n",
        "        self.status = \"off\"\n",
        "        print(\"Engine stopped.\")\n",
        "\n",
        "class Car:\n",
        "    # 자동차는 엔진을 포함함\n",
        "    def __init__(self, model):\n",
        "        self.model = model\n",
        "        self.engine = Engine()  # Engine 객체 포함\n",
        "\n",
        "    def start_car(self):\n",
        "        print(f\"Starting {self.model}...\")\n",
        "        self.engine.start()\n",
        "\n",
        "    def stop_car(self):\n",
        "        print(f\"Stopping {self.model}...\")\n",
        "        self.engine.stop()\n",
        "\n",
        "# 인스턴스 생성\n",
        "my_car = Car(\"Tesla Model S\")\n",
        "\n",
        "# 메서드 호출\n",
        "my_car.start_car()\n",
        "my_car.stop_car()\n"
      ],
      "metadata": {
        "id": "6wF7iCCLTMdp",
        "outputId": "1d05270b-02ff-42f4-ceaf-e8562e7f1769",
        "colab": {
          "base_uri": "https://localhost:8080/"
        }
      },
      "execution_count": null,
      "outputs": [
        {
          "output_type": "stream",
          "name": "stdout",
          "text": [
            "Starting Tesla Model S...\n",
            "Engine started.\n",
            "Stopping Tesla Model S...\n",
            "Engine stopped.\n"
          ]
        }
      ]
    },
    {
      "cell_type": "markdown",
      "source": [
        "메서드에서 다른 메서드를 호출하는 예제  \n",
        "클래스 내에서는 하나의 메서드에서 다른 메서드를 호출할 수 있습니다. 이를 통해 더 복잡한 처리를 단순화할 수 있습니다."
      ],
      "metadata": {
        "id": "IMA0QdSfTOmI"
      }
    },
    {
      "cell_type": "code",
      "source": [
        "class Student:\n",
        "    def __init__(self, name, scores):\n",
        "        self.name = name\n",
        "        self.scores = scores  # 성적 리스트\n",
        "\n",
        "    # 평균 성적 계산\n",
        "    def average(self):\n",
        "        return sum(self.scores) / len(self.scores)\n",
        "\n",
        "    # 성적 등급을 계산하는 메서드\n",
        "    def grade(self):\n",
        "        avg = self.average()\n",
        "        if avg >= 90:\n",
        "            return \"A\"\n",
        "        elif avg >= 80:\n",
        "            return \"B\"\n",
        "        elif avg >= 70:\n",
        "            return \"C\"\n",
        "        elif avg >= 60:\n",
        "            return \"D\"\n",
        "        else:\n",
        "            return \"F\"\n",
        "\n",
        "    # 성적을 출력하는 메서드\n",
        "    def print_report(self):\n",
        "        print(f\"Student: {self.name}\")\n",
        "        print(f\"Average Score: {self.average()}\")\n",
        "        print(f\"Grade: {self.grade()}\")\n",
        "\n",
        "# 인스턴스 생성\n",
        "student = Student(\"John\", [88, 92, 79, 85])\n",
        "\n",
        "# 리포트 출력\n",
        "student.print_report()\n"
      ],
      "metadata": {
        "id": "pp_YSBTeTQZw",
        "outputId": "836b9800-6a54-47f7-8324-befdda08287f",
        "colab": {
          "base_uri": "https://localhost:8080/"
        }
      },
      "execution_count": null,
      "outputs": [
        {
          "output_type": "stream",
          "name": "stdout",
          "text": [
            "Student: John\n",
            "Average Score: 86.0\n",
            "Grade: B\n"
          ]
        }
      ]
    },
    {
      "cell_type": "markdown",
      "source": [
        "매개변수가 있는 메서드 처리  \n",
        "메서드는 인수(argument)를 받을 수 있으며, 이를 바탕으로 다른 기능을 수행할 수 있습니다."
      ],
      "metadata": {
        "id": "F27xw7ySTS6b"
      }
    },
    {
      "cell_type": "code",
      "source": [
        "class TemperatureConverter:\n",
        "    # 섭씨를 화씨로 변환하는 메서드\n",
        "    def celsius_to_fahrenheit(self, celsius):\n",
        "        return (celsius * 9/5) + 32\n",
        "\n",
        "    # 화씨를 섭씨로 변환하는 메서드\n",
        "    def fahrenheit_to_celsius(self, fahrenheit):\n",
        "        return (fahrenheit - 32) * 5/9\n",
        "\n",
        "# 인스턴스 생성\n",
        "converter = TemperatureConverter()\n",
        "\n",
        "# 메서드 호출\n",
        "celsius = 25\n",
        "fahrenheit = 77\n",
        "print(f\"{celsius}°C is {converter.celsius_to_fahrenheit(celsius)}°F\")\n",
        "print(f\"{fahrenheit}°F is {converter.fahrenheit_to_celsius(fahrenheit)}°C\")\n"
      ],
      "metadata": {
        "id": "4JYlXtSyTUzx",
        "outputId": "16738190-3abd-4a5a-ec8f-392b4e8c4654",
        "colab": {
          "base_uri": "https://localhost:8080/"
        }
      },
      "execution_count": null,
      "outputs": [
        {
          "output_type": "stream",
          "name": "stdout",
          "text": [
            "25°C is 77.0°F\n",
            "77°F is 25.0°C\n"
          ]
        }
      ]
    },
    {
      "cell_type": "code",
      "source": [
        "# 클래스 상속 예제\n",
        "class Animal:\n",
        "    def __init__(self, name):\n",
        "        self.name = name\n",
        "\n",
        "    def speak(self):\n",
        "        return f\"{self.name} makes a sound.\"\n",
        "\n",
        "class Dog(Animal):\n",
        "    def speak(self):\n",
        "        return f\"{self.name} barks.\"\n",
        "\n",
        "# Dog 클래스는 Animal 클래스를 상속\n",
        "dog = Dog(\"Buddy\")\n",
        "print(dog.speak())\n"
      ],
      "metadata": {
        "colab": {
          "base_uri": "https://localhost:8080/"
        },
        "id": "6vvK6xT5Czbj",
        "outputId": "8ad5060d-8391-4945-cd07-1759064003e8"
      },
      "execution_count": null,
      "outputs": [
        {
          "output_type": "stream",
          "name": "stdout",
          "text": [
            "Buddy barks.\n"
          ]
        }
      ]
    },
    {
      "cell_type": "markdown",
      "source": [
        "클래스 내 메서드와 속성 관리  \n",
        "클래스 내부에서는 다양한 종류의 메서드를 정의할 수 있습니다. 예를 들어, 정적 메서드, 클래스 메서드 등을 정의해보겠습니다."
      ],
      "metadata": {
        "id": "wK3X1uxZSiLL"
      }
    },
    {
      "cell_type": "code",
      "source": [
        "class Circle:\n",
        "    pi = 3.14159  # 클래스 속성 (모든 인스턴스가 공유)\n",
        "\n",
        "    # 생성자\n",
        "    def __init__(self, radius):\n",
        "        self.radius = radius  # 인스턴스 속성\n",
        "\n",
        "    # 인스턴스 메서드\n",
        "    def area(self):\n",
        "        return Circle.pi * (self.radius ** 2)\n",
        "\n",
        "    # 클래스 메서드\n",
        "    @classmethod\n",
        "    def unit_circle(cls):\n",
        "        return cls(1)  # 반지름이 1인 Circle 객체를 반환\n",
        "\n",
        "    # 정적 메서드\n",
        "    @staticmethod\n",
        "    def circumference(radius):\n",
        "        return 2 * Circle.pi * radius\n",
        "\n",
        "# 인스턴스 생성 및 메서드 호출\n",
        "circle1 = Circle(5)\n",
        "print(f\"Area of circle1: {circle1.area()}\")\n",
        "\n",
        "# 클래스 메서드 사용\n",
        "unit_circle = Circle.unit_circle()\n",
        "print(f\"Area of unit circle: {unit_circle.area()}\")\n",
        "\n",
        "# 정적 메서드 호출\n",
        "print(f\"Circumference of circle with radius 3: {Circle.circumference(3)}\")\n"
      ],
      "metadata": {
        "id": "CoRolqMSSbb2",
        "outputId": "71e7e9e8-7ade-4df9-9da7-6aad31b6faca",
        "colab": {
          "base_uri": "https://localhost:8080/"
        }
      },
      "execution_count": null,
      "outputs": [
        {
          "output_type": "stream",
          "name": "stdout",
          "text": [
            "Area of circle1: 78.53975\n",
            "Area of unit circle: 3.14159\n",
            "Circumference of circle with radius 3: 18.849539999999998\n"
          ]
        }
      ]
    },
    {
      "cell_type": "markdown",
      "source": [
        "캡슐화와 getter/setter 사용  \n",
        "캡슐화는 클래스 내부 데이터를 보호하는 방법입니다. 속성에 직접 접근하지 않고, getter와 setter를 통해 데이터를 안전하게 다룰 수 있습니다.\n",
        "\n"
      ],
      "metadata": {
        "id": "BiAKDKHBSo1d"
      }
    },
    {
      "cell_type": "code",
      "source": [
        "class Person:\n",
        "    def __init__(self, name, age):\n",
        "        self._name = name  # 속성 앞에 _를 붙여서 보호됨을 나타냄\n",
        "        self._age = age\n",
        "\n",
        "    # getter 메서드\n",
        "    def get_age(self):\n",
        "        return self._age\n",
        "\n",
        "    # setter 메서드\n",
        "    def set_age(self, age):\n",
        "        if age >= 0:\n",
        "            self._age = age\n",
        "        else:\n",
        "            print(\"Age can't be negative!\")\n",
        "\n",
        "# 인스턴스 생성\n",
        "person = Person(\"Alice\", 30)\n",
        "\n",
        "# getter 사용\n",
        "print(f\"{person._name} is {person.get_age()} years old.\")\n",
        "\n",
        "# setter 사용\n",
        "person.set_age(35)\n",
        "print(f\"{person._name} is now {person.get_age()} years old.\")\n",
        "\n",
        "# 유효하지 않은 나이 입력 시\n",
        "person.set_age(-5)\n"
      ],
      "metadata": {
        "id": "LuGjnVEpSpad",
        "outputId": "f343cecd-7d0a-4211-a5f2-da97bd8c9d57",
        "colab": {
          "base_uri": "https://localhost:8080/"
        }
      },
      "execution_count": null,
      "outputs": [
        {
          "output_type": "stream",
          "name": "stdout",
          "text": [
            "Alice is 30 years old.\n",
            "Alice is now 35 years old.\n",
            "Age can't be negative!\n"
          ]
        }
      ]
    },
    {
      "cell_type": "markdown",
      "source": [
        "매직 메서드 (Magic Methods)  \n",
        "매직 메서드는 __init__과 같은 특별한 메서드로, 파이썬 클래스의 동작을 사용자 정의할 때 사용됩니다."
      ],
      "metadata": {
        "id": "vSSvFX6oSu0j"
      }
    },
    {
      "cell_type": "code",
      "source": [
        "class Book:\n",
        "    def __init__(self, title, author):\n",
        "        self.title = title\n",
        "        self.author = author\n",
        "\n",
        "    # __str__ 매직 메서드: 객체를 문자열로 표현\n",
        "    def __str__(self):\n",
        "        return f\"'{self.title}' by {self.author}\"\n",
        "\n",
        "    # __len__ 매직 메서드: len() 함수 사용 시 동작\n",
        "    def __len__(self):\n",
        "        return len(self.title)\n",
        "\n",
        "# 인스턴스 생성\n",
        "book = Book(\"The Great Gatsby\", \"F. Scott Fitzgerald\")\n",
        "\n",
        "# __str__ 메서드 호출\n",
        "print(book)\n",
        "\n",
        "# __len__ 메서드 호출\n",
        "print(f\"Title length: {len(book)}\")\n"
      ],
      "metadata": {
        "id": "5e5JGopOSyCz",
        "outputId": "4291a40c-64a3-4cf1-e22c-e0faeb66740e",
        "colab": {
          "base_uri": "https://localhost:8080/"
        }
      },
      "execution_count": null,
      "outputs": [
        {
          "output_type": "stream",
          "name": "stdout",
          "text": [
            "'The Great Gatsby' by F. Scott Fitzgerald\n",
            "Title length: 16\n"
          ]
        }
      ]
    },
    {
      "cell_type": "markdown",
      "source": [
        "10. 예외처리  \n",
        "Python에서 예외가 발생할 경우 프로그램이 중단되지 않도록 처리할 수 있습니다. try, except, finally를 사용합니다."
      ],
      "metadata": {
        "id": "wajAXbuUB7zg"
      }
    },
    {
      "cell_type": "code",
      "source": [
        "# 예외 처리 예제\n",
        "try:\n",
        "    number = int(input(\"숫자를 입력하세요: \"))\n",
        "    result = 10 / number\n",
        "    print(f\"결과: {result}\")\n",
        "except ZeroDivisionError:\n",
        "    print(\"0으로 나눌 수 없습니다.\")\n",
        "except ValueError:\n",
        "    print(\"유효한 숫자를 입력하세요.\")\n",
        "finally:\n",
        "    print(\"프로그램 종료.\")\n"
      ],
      "metadata": {
        "colab": {
          "base_uri": "https://localhost:8080/"
        },
        "id": "u57s34kWB6TK",
        "outputId": "6cb79bea-58e1-4e6d-9ea3-7c557a3b7ab6"
      },
      "execution_count": null,
      "outputs": [
        {
          "output_type": "stream",
          "name": "stdout",
          "text": [
            "숫자를 입력하세요: 55\n",
            "결과: 0.18181818181818182\n",
            "프로그램 종료.\n"
          ]
        }
      ]
    },
    {
      "cell_type": "code",
      "source": [],
      "metadata": {
        "id": "PhsRw1UEB8if"
      },
      "execution_count": null,
      "outputs": []
    }
  ]
}